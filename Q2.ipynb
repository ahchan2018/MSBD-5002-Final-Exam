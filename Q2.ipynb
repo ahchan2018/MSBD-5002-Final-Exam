{
 "cells": [
  {
   "cell_type": "code",
   "execution_count": 9,
   "metadata": {},
   "outputs": [],
   "source": [
    "import numpy as np\n",
    "import csv\n",
    "from tqdm import tqdm\n",
    "import networkx as nx"
   ]
  },
  {
   "cell_type": "code",
   "execution_count": 10,
   "metadata": {},
   "outputs": [],
   "source": [
    "minp=200 #density threshold\n",
    "N=5 #the step size of grids for each dimension."
   ]
  },
  {
   "cell_type": "markdown",
   "metadata": {},
   "source": [
    "# Load data"
   ]
  },
  {
   "cell_type": "code",
   "execution_count": 11,
   "metadata": {},
   "outputs": [],
   "source": [
    "X=[]\n",
    "filename = './Data_Q2/X.csv'\n",
    "with open(filename) as f:\n",
    "    reader = csv.reader(f)\n",
    "    next(reader)\n",
    "    for row in reader:\n",
    "        X.append([int(it) for it in row])\n",
    "X=np.array(X)"
   ]
  },
  {
   "cell_type": "markdown",
   "metadata": {},
   "source": [
    "Construct the graph"
   ]
  },
  {
   "cell_type": "code",
   "execution_count": 12,
   "metadata": {},
   "outputs": [
    {
     "name": "stderr",
     "output_type": "stream",
     "text": [
      "100%|███████████████████████████████| 286047/286047 [00:08<00:00, 34350.83it/s]\n"
     ]
    }
   ],
   "source": [
    "M,d=X.shape\n",
    "\n",
    "min_X=np.min(X,0)\n",
    "max_X=np.max(X,0)\n",
    "\n",
    "\n",
    "G=nx.Graph()\n",
    "\n",
    "cell2point={}\n",
    "point2cell={}\n",
    "\n",
    "axis2cell={}\n",
    "graph_num=0\n",
    "\n",
    "for m in tqdm(range(M)):\n",
    "    index=np.floor((X[m,:]-min_X)/(max_X-min_X)*N)\n",
    "    axis=0\n",
    "    for i in range(index.shape[0]):\n",
    "        axis+=(N**i)*index[i]\n",
    "    if axis in axis2cell.keys():\n",
    "        cell2point[axis2cell[axis]].append(m)\n",
    "        point2cell[m]=axis2cell[axis]\n",
    "    else:\n",
    "        axis2cell[axis]=graph_num\n",
    "        G.add_node(graph_num)\n",
    "        cell2point[graph_num]=[m]\n",
    "        point2cell[m]=graph_num\n",
    "        graph_num+=1"
   ]
  },
  {
   "cell_type": "markdown",
   "metadata": {},
   "source": [
    "Add the edegs between these points that are more than the density threshold"
   ]
  },
  {
   "cell_type": "code",
   "execution_count": 13,
   "metadata": {},
   "outputs": [
    {
     "name": "stderr",
     "output_type": "stream",
     "text": [
      "100%|█████████████████████████████████████| 8587/8587 [00:14<00:00, 587.84it/s]\n"
     ]
    }
   ],
   "source": [
    "keys=sorted(axis2cell.keys())\n",
    "d=[N**i for i in range(10)]\n",
    "for k1 in tqdm(range(keys.__len__())):\n",
    "    if cell2point[axis2cell[keys[k1]]].__len__()>=minp:\n",
    "        for k2 in range(k1+1,keys.__len__()):\n",
    "            if keys[k2]==keys[k1]:\n",
    "                continue\n",
    "            tmp = abs(keys[k2] - keys[k1])\n",
    "            if np.any(tmp==d) :\n",
    "                G.add_edge(axis2cell[keys[k1]], axis2cell[keys[k2]])"
   ]
  },
  {
   "cell_type": "markdown",
   "metadata": {},
   "source": [
    "Find the max component in the graph"
   ]
  },
  {
   "cell_type": "code",
   "execution_count": 14,
   "metadata": {},
   "outputs": [],
   "source": [
    "Gc = max(nx.connected_component_subgraphs(G), key=len)"
   ]
  },
  {
   "cell_type": "markdown",
   "metadata": {},
   "source": [
    "Save the results"
   ]
  },
  {
   "cell_type": "code",
   "execution_count": 15,
   "metadata": {},
   "outputs": [
    {
     "name": "stderr",
     "output_type": "stream",
     "text": [
      "100%|██████████████████████████████| 286047/286047 [00:00<00:00, 391533.82it/s]\n"
     ]
    }
   ],
   "source": [
    "with open('Q2_output.csv','w', newline='') as f:\n",
    "    writer=csv.writer(f)\n",
    "    writer.writerow(['Result'])\n",
    "    for m in tqdm(range(M)):\n",
    "        if point2cell[m] in Gc.nodes:\n",
    "            writer.writerow(['0'])\n",
    "        else:\n",
    "            writer.writerow(['1'])"
   ]
  }
 ],
 "metadata": {
  "kernelspec": {
   "display_name": "Python 3",
   "language": "python",
   "name": "python3"
  },
  "language_info": {
   "codemirror_mode": {
    "name": "ipython",
    "version": 3
   },
   "file_extension": ".py",
   "mimetype": "text/x-python",
   "name": "python",
   "nbconvert_exporter": "python",
   "pygments_lexer": "ipython3",
   "version": "3.6.5"
  }
 },
 "nbformat": 4,
 "nbformat_minor": 1
}
